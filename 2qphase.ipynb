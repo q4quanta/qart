{
 "cells": [
  {
   "cell_type": "markdown",
   "metadata": {},
   "source": [
    "## Phase Circles"
   ]
  },
  {
   "cell_type": "code",
   "execution_count": 64,
   "metadata": {},
   "outputs": [],
   "source": [
    "import matplotlib.pyplot as plt\n",
    "import numpy as np\n",
    "import pandas as pd\n",
    "import seaborn as sns\n",
    "sns.set()\n",
    "%matplotlib inline\n",
    "from qiskit import QuantumCircuit, QuantumRegister,ClassicalRegister, execute, Aer, IBMQ\n",
    "from qiskit.compiler import transpile, assemble\n",
    "from qiskit.tools.jupyter import *\n",
    "from qiskit.visualization import *\n",
    "from qiskit.providers.aer import UnitarySimulator"
   ]
  },
  {
   "cell_type": "markdown",
   "metadata": {},
   "source": [
    "### Class Phase"
   ]
  },
  {
   "cell_type": "code",
   "execution_count": 128,
   "metadata": {},
   "outputs": [],
   "source": [
    "class Phase(object):\n",
    "    def __init__(self,u0,nqubit,circuit):\n",
    "        self.n = nqubit\n",
    "        self.qc = circuit\n",
    "        self.u0 = u0\n",
    "        \n",
    "    def getU(self):\n",
    "        simulator = Aer.get_backend('unitary_simulator')\n",
    "        result = execute(self.qc, simulator).result()\n",
    "        self.U = result.get_unitary(self.qc)\n",
    "        \n",
    "    def getv(self):\n",
    "        self.getU()\n",
    "        vr = np.dot(self.U,self.u0)\n",
    "        self.v = vr/np.sqrt(np.dot(vr.T,vr))\n",
    "        \n",
    "    \n",
    "    def getP(self):\n",
    "        self.getv()\n",
    "        self.P = [0 for i in range(len(self.v))]\n",
    "        for i in range(len(vn)):\n",
    "            rl = self.v[i].imag\n",
    "            im = self.v[i].real\n",
    "            if abs(im)<1e-5:\n",
    "                im=0.0\n",
    "            if abs(rl)<1e-5:\n",
    "                rl=0.0\n",
    "            if abs(im) == 0.0 and abs(rl) ==0.0:\n",
    "                self.P[i] = \"NA\"\n",
    "                self.v[i] = 0.0+0.j\n",
    "            else:\n",
    "                if rl >0 and im >0:\n",
    "                    self.P[i] = np.arctan(abs(im)/abs(rl))[0,0] \n",
    "                elif rl < 0 and im >0:\n",
    "                    self.P[i] = np.pi/2 + np.arctan(abs(im)/abs(rl))[0,0] \n",
    "                elif rl < 0 and im <0:\n",
    "                    self.P[i] = np.pi + np.arctan(abs(im)/abs(rl))[0,0] \n",
    "                elif rl > 0 and im <0:\n",
    "                    self.P[i] = 3*np.pi/2 + np.arctan(abs(im)/abs(rl))[0,0]  \n",
    "    "
   ]
  },
  {
   "cell_type": "markdown",
   "metadata": {},
   "source": [
    "### Define Circuit"
   ]
  },
  {
   "cell_type": "code",
   "execution_count": 129,
   "metadata": {},
   "outputs": [],
   "source": [
    "def setu0(n):\n",
    "    u0 = np.matrix([0.0+0.0j for i in range(2**n)])\n",
    "    u0[0,0] = 1.0+0.0j\n",
    "    return u0.T"
   ]
  },
  {
   "cell_type": "code",
   "execution_count": 149,
   "metadata": {},
   "outputs": [],
   "source": [
    "class Circuit():\n",
    "    \n",
    "    def __init__(self,n):\n",
    "        self.n = n\n",
    "        \n",
    "    def circuit1(self):\n",
    "        q = QuantumRegister(self.n)\n",
    "        qc = QuantumCircuit(q)\n",
    "        qc.h(q[1])\n",
    "        return qc    \n",
    "    \n",
    "    def circuit2(self):\n",
    "        q = QuantumRegister(self.n)\n",
    "        qc = QuantumCircuit(q)\n",
    "        qc.h(q[1])\n",
    "        qc.cu1(np.pi / 2,q[0], q[1])\n",
    "        return qc\n",
    "    \n",
    "    def circuit3(self):\n",
    "        q = QuantumRegister(self.n)\n",
    "        qc = QuantumCircuit(q)\n",
    "        qc.h(q[1])\n",
    "        qc.cu1(np.pi / 2, q[0], q[1])\n",
    "        qc.h(q[0])\n",
    "        return qc\n",
    "    \n",
    "    def circuit4(self):\n",
    "        q = QuantumRegister(self.n)\n",
    "        qc = QuantumCircuit(q)\n",
    "        qc.h(q[1])\n",
    "        qc.cu1(np.pi / 2, q[0], q[1])\n",
    "        qc.h(q[0])\n",
    "        qc.swap(q[0], q[1])\n",
    "        return qc\n",
    "    \n",
    "    "
   ]
  },
  {
   "cell_type": "code",
   "execution_count": 150,
   "metadata": {},
   "outputs": [],
   "source": [
    "n = 2\n",
    "C = Circuit(n)\n",
    "u0 = setu0(n)\n",
    "Phases = []\n",
    "CC = [C.circuit1(),C.circuit2(),C.circuit3(),C.circuit4()]\n",
    "for circuit in CC:\n",
    "    qc = circuit\n",
    "    PP = Phase(u0,n,qc)\n",
    "    PP.getP()\n",
    "    Phases.append(PP.P)"
   ]
  },
  {
   "cell_type": "code",
   "execution_count": 151,
   "metadata": {},
   "outputs": [
    {
     "data": {
      "text/plain": [
       "[[0, 'NA', 0, 'NA'], [0, 'NA', 0, 'NA'], [0, 0, 0, 0], [0, 0, 0, 0]]"
      ]
     },
     "execution_count": 151,
     "metadata": {},
     "output_type": "execute_result"
    }
   ],
   "source": [
    "Phases"
   ]
  },
  {
   "cell_type": "markdown",
   "metadata": {},
   "source": [
    "### Plot Circuit and  Phase"
   ]
  },
  {
   "cell_type": "code",
   "execution_count": 153,
   "metadata": {},
   "outputs": [],
   "source": [
    "def drawPhase(PP):\n",
    "    depth = len(PP)\n",
    "    nqubit = len(PP[0])\n",
    "    r = 0.25\n",
    "    dx = 5\n",
    "    plt.figure(figsize=[2.0*depth,nqubit])\n",
    "    for i in range(depth):\n",
    "        x0 = i\n",
    "        for j in range(nqubit):\n",
    "            y0 = nqubit-j\n",
    "            if PP[i][j] != \"NA\":\n",
    "                ax=plt.gca()\n",
    "                circle= plt.Circle((dx+x0,y0), radius= r, color = 'orange')\n",
    "                line = plt.plot((dx+x0,dx+x0+r*np.cos(PP[i][j])),(y0,y0+r*np.sin(PP[i][j])),color = \"blue\")\n",
    "                ax.add_patch(circle)\n",
    "                plt.axis('scaled')\n",
    "            else:\n",
    "                ax=plt.gca()\n",
    "                circle= plt.Circle((dx+x0,y0), radius= r, color = 'white')\n",
    "                ax.add_patch(circle)\n",
    "                plt.axis('scaled')\n",
    "        \n",
    "    plt.show()"
   ]
  },
  {
   "cell_type": "code",
   "execution_count": 158,
   "metadata": {},
   "outputs": [
    {
     "data": {
      "image/png": "[encoded data removed]",
      "text/plain": [
       "<Figure size 500.864x144.48 with 1 Axes>"
      ]
     },
     "execution_count": 158,
     "metadata": {},
     "output_type": "execute_result"
    }
   ],
   "source": [
    "C = Circuit(n)\n",
    "qcf = C.circuit4()\n",
    "style = {'backgroundcolor': 'lightgreen'}\n",
    "qc.draw(output='mpl', style = style)"
   ]
  },
  {
   "cell_type": "code",
   "execution_count": 159,
   "metadata": {},
   "outputs": [
    {
     "data": {
      "image/png": "[encoded data removed]",
      "text/plain": [
       "<Figure size 576x288 with 1 Axes>"
      ]
     },
     "metadata": {
      "needs_background": "light"
     },
     "output_type": "display_data"
    }
   ],
   "source": [
    "drawPhase(Phases)"
   ]
  },
  {
   "cell_type": "code",
   "execution_count": null,
   "metadata": {},
   "outputs": [],
   "source": []
  },
  {
   "cell_type": "code",
   "execution_count": null,
   "metadata": {},
   "outputs": [],
   "source": []
  }
 ],
 "metadata": {
  "kernelspec": {
   "display_name": "Python 3",
   "language": "python",
   "name": "python3"
  }
 },
 "nbformat": 4,
 "nbformat_minor": 4
}
