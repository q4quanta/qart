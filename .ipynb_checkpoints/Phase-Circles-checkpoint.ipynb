{
 "cells": [
  {
   "cell_type": "markdown",
   "metadata": {},
   "source": [
    "### Phase Circles"
   ]
  },
  {
   "cell_type": "code",
   "execution_count": 294,
   "metadata": {},
   "outputs": [],
   "source": [
    "import matplotlib.pyplot as plt\n",
    "import numpy as np\n",
    "import pandas as pd\n",
    "import seaborn as sns\n",
    "sns.set()"
   ]
  },
  {
   "cell_type": "code",
   "execution_count": 295,
   "metadata": {},
   "outputs": [],
   "source": [
    "%matplotlib inline\n",
    "# Importing standard Qiskit libraries and configuring account\n",
    "from qiskit import QuantumCircuit, QuantumRegister,ClassicalRegister, execute, Aer, IBMQ\n",
    "from qiskit.compiler import transpile, assemble\n",
    "from qiskit.tools.jupyter import *\n",
    "from qiskit.visualization import *\n",
    "from qiskit.providers.aer import UnitarySimulator"
   ]
  },
  {
   "cell_type": "code",
   "execution_count": 296,
   "metadata": {},
   "outputs": [],
   "source": [
    "def circuit():\n",
    "    n =10\n",
    "    q = QuantumRegister(n)\n",
    "    cir = QuantumCircuit(q)\n",
    "    cir.h(q[0])\n",
    "    cir.h(q[1])\n",
    "    return cir"
   ]
  },
  {
   "cell_type": "code",
   "execution_count": 297,
   "metadata": {},
   "outputs": [],
   "source": [
    "def draw(circ):\n",
    "    circ = circuit()\n",
    "    style = {'backgroundcolor': 'lightgreen'}\n",
    "    circ.draw(output='mpl', style = style)"
   ]
  },
  {
   "cell_type": "code",
   "execution_count": 298,
   "metadata": {},
   "outputs": [
    {
     "name": "stdout",
     "output_type": "stream",
     "text": [
      "[[ 0.5+0.0000000e+00j  0.5-6.1232340e-17j  0.5-6.1232340e-17j\n",
      "   0.5-1.2246468e-16j]\n",
      " [ 0.5+0.0000000e+00j -0.5+6.1232340e-17j  0.5-6.1232340e-17j\n",
      "  -0.5+1.2246468e-16j]\n",
      " [ 0.5+0.0000000e+00j  0.5-6.1232340e-17j -0.5+6.1232340e-17j\n",
      "  -0.5+1.2246468e-16j]\n",
      " [ 0.5+0.0000000e+00j -0.5+6.1232340e-17j -0.5+6.1232340e-17j\n",
      "   0.5-1.2246468e-16j]]\n"
     ]
    }
   ],
   "source": [
    "def getU(circ):\n",
    "    simulator = Aer.get_backend('unitary_simulator')\n",
    "    result = execute(circ, simulator).result()\n",
    "    U = result.get_unitary(circ)\n",
    "    return U\n",
    "\n",
    "U = getU(circ)\n",
    "print(U)"
   ]
  },
  {
   "cell_type": "code",
   "execution_count": 299,
   "metadata": {},
   "outputs": [],
   "source": [
    "def getP(U,u):\n",
    "    v = np.dot(U,u)\n",
    "    vn = v/np.sqrt(np.dot(v.T,v))\n",
    "    P = [0 for i in range(len(vn))]\n",
    "    for i in range(len(vn)):\n",
    "        if abs(vn[i].imag) == 0 and abs(vn[i].real) ==0:\n",
    "            P[i] = \"NA\"\n",
    "            vn[i] = 0.0+0.j\n",
    "        #if abs(vn[i].imag)< 1e-5 and abs(vn[i].real)< 1e-5:\n",
    "        #    P[i] = \"NA\"\n",
    "        #    vn[i] = 0.0+0.j\n",
    "        elif abs(vn[i].imag)> 1e-10 and abs(vn[i].real)> 1e-10:\n",
    "            P[i] = np.arctan(vn[i].imag/vn[i].real)[0,0] \n",
    "    return vn,P"
   ]
  },
  {
   "cell_type": "code",
   "execution_count": 300,
   "metadata": {},
   "outputs": [
    {
     "name": "stdout",
     "output_type": "stream",
     "text": [
      "[[0.5+0.j]\n",
      " [0.5+0.j]\n",
      " [0.5+0.j]\n",
      " [0.5+0.j]] [0, 0, 0, 0]\n"
     ]
    }
   ],
   "source": [
    "U = getU(circ)\n",
    "u = np.matrix([1,0,0,0]).T\n",
    "vn,P = getP(U,u)\n",
    "print(vn,P)"
   ]
  },
  {
   "cell_type": "markdown",
   "metadata": {},
   "source": [
    "#### Draw circle"
   ]
  },
  {
   "cell_type": "code",
   "execution_count": 301,
   "metadata": {},
   "outputs": [
    {
     "data": {
      "image/png": "[encoded data removed]",
      "text/plain": [
       "<Figure size 432x288 with 1 Axes>"
      ]
     },
     "metadata": {
      "needs_background": "light"
     },
     "output_type": "display_data"
    }
   ],
   "source": [
    "t = 0.25\n",
    "r = 0.25\n",
    "for i in range(4):\n",
    "    x0 = i\n",
    "    for j in range(4):\n",
    "        y0 = j\n",
    "        ax=plt.gca()\n",
    "        circle= plt.Circle((x0,y0), radius= r, color = 'orange')\n",
    "        line = plt.plot((x0,x0+r*np.cos(t)),(y0,y0+r*np.sin(t)),color = \"blue\")\n",
    "        ax.add_patch(circle)\n",
    "        plt.axis('scaled')\n",
    "        \n",
    "plt.show()"
   ]
  },
  {
   "cell_type": "markdown",
   "metadata": {},
   "source": [
    "--------"
   ]
  },
  {
   "cell_type": "code",
   "execution_count": 302,
   "metadata": {},
   "outputs": [],
   "source": [
    "def circuit1():\n",
    "    n =2\n",
    "    q = QuantumRegister(n)\n",
    "    cir = QuantumCircuit(q)\n",
    "    return cir\n",
    "def circuit2():\n",
    "    n =2\n",
    "    q = QuantumRegister(n)\n",
    "    qc = QuantumCircuit(q)\n",
    "    qc.h(q[1])\n",
    "    qc.cu1(np.pi / 2, q[0], q[1])\n",
    "    qc.h(q[0])\n",
    "    qc.swap(q[0], q[1])\n",
    "    return qc"
   ]
  },
  {
   "cell_type": "code",
   "execution_count": 303,
   "metadata": {},
   "outputs": [],
   "source": [
    "U1 = getU(circuit1())\n",
    "U2 = getU(circuit2())\n",
    "U3 = getU(circuit2())\n",
    "U4 = getU(circuit2())\n",
    "U5 = getU(circuit2())\n",
    "U6 = getU(circuit2())\n",
    "U7 = getU(circuit2())\n",
    "U8 = getU(circuit2())\n",
    "\n",
    "u = np.matrix([0,1,0,0]).T\n",
    "\n",
    "v1,P1 =  getP(U1,u)\n",
    "v2,P2 =  getP(U2,u)\n",
    "v3,P3 =  getP(U3,u)\n",
    "v4,P4 =  getP(U4,u)\n",
    "v5,P5 =  getP(U5,u)\n",
    "v6,P6 =  getP(U6,u)\n",
    "v7,P7 =  getP(U7,u)\n",
    "v8,P8 =  getP(U8,u)\n",
    "\n",
    "PP = [P1,P2,P3,P4,P5,P6,P7,P8]"
   ]
  },
  {
   "cell_type": "code",
   "execution_count": 304,
   "metadata": {},
   "outputs": [
    {
     "data": {
      "text/plain": [
       "(matrix([[0.+0.j],\n",
       "         [1.+0.j],\n",
       "         [0.+0.j],\n",
       "         [0.+0.j]]),\n",
       " matrix([[ 32647478.88815079 -4419056.81950173j],\n",
       "         [  4419056.81950174+32647478.88815078j],\n",
       "         [-32647478.88815079 +4419056.81950173j],\n",
       "         [ -4419056.81950174-32647478.88815079j]]),\n",
       " matrix([[ 32647478.88815079 -4419056.81950173j],\n",
       "         [  4419056.81950174+32647478.88815078j],\n",
       "         [-32647478.88815079 +4419056.81950173j],\n",
       "         [ -4419056.81950174-32647478.88815079j]]),\n",
       " matrix([[ 32647478.88815079 -4419056.81950173j],\n",
       "         [  4419056.81950174+32647478.88815078j],\n",
       "         [-32647478.88815079 +4419056.81950173j],\n",
       "         [ -4419056.81950174-32647478.88815079j]]),\n",
       " matrix([[ 32647478.88815079 -4419056.81950173j],\n",
       "         [  4419056.81950174+32647478.88815078j],\n",
       "         [-32647478.88815079 +4419056.81950173j],\n",
       "         [ -4419056.81950174-32647478.88815079j]]),\n",
       " matrix([[ 32647478.88815079 -4419056.81950173j],\n",
       "         [  4419056.81950174+32647478.88815078j],\n",
       "         [-32647478.88815079 +4419056.81950173j],\n",
       "         [ -4419056.81950174-32647478.88815079j]]),\n",
       " matrix([[ 32647478.88815079 -4419056.81950173j],\n",
       "         [  4419056.81950174+32647478.88815078j],\n",
       "         [-32647478.88815079 +4419056.81950173j],\n",
       "         [ -4419056.81950174-32647478.88815079j]]),\n",
       " matrix([[ 32647478.88815079 -4419056.81950173j],\n",
       "         [  4419056.81950174+32647478.88815078j],\n",
       "         [-32647478.88815079 +4419056.81950173j],\n",
       "         [ -4419056.81950174-32647478.88815079j]]))"
      ]
     },
     "execution_count": 304,
     "metadata": {},
     "output_type": "execute_result"
    }
   ],
   "source": [
    "v1,v2,v3,v4,v5,v6,v7,v8"
   ]
  },
  {
   "cell_type": "code",
   "execution_count": 305,
   "metadata": {},
   "outputs": [
    {
     "data": {
      "text/plain": [
       "[['NA', 0, 'NA', 'NA'],\n",
       " [-0.13453908143157542,\n",
       "  1.4362572453633211,\n",
       "  -0.1345390814315754,\n",
       "  1.4362572453633211],\n",
       " [-0.13453908143157542,\n",
       "  1.4362572453633211,\n",
       "  -0.1345390814315754,\n",
       "  1.4362572453633211],\n",
       " [-0.13453908143157542,\n",
       "  1.4362572453633211,\n",
       "  -0.1345390814315754,\n",
       "  1.4362572453633211],\n",
       " [-0.13453908143157542,\n",
       "  1.4362572453633211,\n",
       "  -0.1345390814315754,\n",
       "  1.4362572453633211],\n",
       " [-0.13453908143157542,\n",
       "  1.4362572453633211,\n",
       "  -0.1345390814315754,\n",
       "  1.4362572453633211],\n",
       " [-0.13453908143157542,\n",
       "  1.4362572453633211,\n",
       "  -0.1345390814315754,\n",
       "  1.4362572453633211],\n",
       " [-0.13453908143157542,\n",
       "  1.4362572453633211,\n",
       "  -0.1345390814315754,\n",
       "  1.4362572453633211]]"
      ]
     },
     "execution_count": 305,
     "metadata": {},
     "output_type": "execute_result"
    }
   ],
   "source": [
    "PP"
   ]
  },
  {
   "cell_type": "code",
   "execution_count": 306,
   "metadata": {},
   "outputs": [],
   "source": [
    "def drawPhase(PP):\n",
    "    depth = len(PP)\n",
    "    nqubit = len(PP[0])\n",
    "    r = 0.25\n",
    "    dx = 5\n",
    "    plt.figure(figsize=[1.5*depth,nqubit])\n",
    "    for i in range(depth):\n",
    "        x0 = i\n",
    "        for j in range(nqubit):\n",
    "            y0 = nqubit-j\n",
    "            if PP[i][j] != \"NA\":\n",
    "                ax=plt.gca()\n",
    "                circle= plt.Circle((dx+x0,y0), radius= r, color = 'orange')\n",
    "                line = plt.plot((dx+x0,dx+x0+r*np.cos(PP[i][j])),(y0,y0+r*np.sin(PP[i][j])),color = \"blue\")\n",
    "                ax.add_patch(circle)\n",
    "                plt.axis('scaled')\n",
    "            else:\n",
    "                ax=plt.gca()\n",
    "                circle= plt.Circle((dx+x0,y0), radius= r, color = 'white')\n",
    "                ax.add_patch(circle)\n",
    "                plt.axis('scaled')\n",
    "        \n",
    "    plt.show()"
   ]
  },
  {
   "cell_type": "code",
   "execution_count": 307,
   "metadata": {},
   "outputs": [
    {
     "data": {
      "image/png": "[encoded data removed]",
      "text/plain": [
       "<Figure size 864x288 with 1 Axes>"
      ]
     },
     "metadata": {
      "needs_background": "light"
     },
     "output_type": "display_data"
    }
   ],
   "source": [
    "drawPhase(PP)"
   ]
  },
  {
   "cell_type": "code",
   "execution_count": null,
   "metadata": {},
   "outputs": [],
   "source": []
  },
  {
   "cell_type": "code",
   "execution_count": null,
   "metadata": {},
   "outputs": [],
   "source": []
  }
 ],
 "metadata": {
  "kernelspec": {
   "display_name": "Python 3",
   "language": "python",
   "name": "python3"
  },
  "language_info": {
   "codemirror_mode": {
    "name": "ipython",
    "version": 3
   },
   "file_extension": ".py",
   "mimetype": "text/x-python",
   "name": "python",
   "nbconvert_exporter": "python",
   "pygments_lexer": "ipython3",
   "version": "3.7.6"
  }
 },
 "nbformat": 4,
 "nbformat_minor": 4
}
